{
 "cells": [
  {
   "cell_type": "markdown",
   "metadata": {},
   "source": [
    "# Introduction\n",
    "\n",
    "In this article I want to share with you results of my analysis that I perform on the Boston Airbnb open dataset. The dataset is provided by kaggle.com and recommended by Udacity during the Nanodegree Data Scientist course.\n",
    "\n",
    "The following Airbnb activity is included in this Boston dataset:\n",
    "\n",
    "- Listings, including full descriptions and average review score\n",
    "- Reviews, including unique id for each reviewer and detailed comments\n",
    "- Calendar, including listing id and the price and availability for that day\n",
    "\n",
    "Throughout the analysis I want to follow CRISP-DM process, actually with a few modifications. The original CRISP-DM process:\n",
    "* business understanding\n",
    "* data understanding\n",
    "* data preparation\n",
    "* data modeling\n",
    "* results\n",
    "* deployment\n",
    "\n",
    "Here, I do not perform modeling as I do statistical analysis and do not train any machine learning model. I also do not deploy the results but present them in the article.\n",
    "\n",
    "To understand the domain, I had a brief look at the data. I was thinking what would be interesting to know, from my perspective, if I would like to start renting my apartment. I came with the following questions that I want to get answered after my analysis of the data:\n",
    "\n",
    "* What is the price distribution for each room type?\n",
    "* How is the price changing over time (count in months) and what are the top 5 average most expensive zipcodes all time?\n",
    "* What is the distribution of demand over the entire time, per month?\n",
    "\n",
    "\n",
    "Let's get started."
   ]
  },
  {
   "cell_type": "markdown",
   "metadata": {},
   "source": [
    "# Data Understanding:"
   ]
  },
  {
   "cell_type": "markdown",
   "metadata": {},
   "source": [
    "First of all, a proper understanding of the data is necessary to think how to address the business questions. The steps here are to download data, make sure all necessary libraries are there and start getting insight into each datafile, by analyzing the dataframe."
   ]
  },
  {
   "cell_type": "code",
   "execution_count": 2,
   "metadata": {},
   "outputs": [],
   "source": [
    "import pandas as pd\n",
    "import numpy as np\n",
    "import matplotlib.pyplot as plt"
   ]
  },
  {
   "cell_type": "code",
   "execution_count": 3,
   "metadata": {},
   "outputs": [],
   "source": [
    "calendar_data = pd.read_csv('calendar.csv')\n",
    "listings_data = pd.read_csv('listings.csv')\n",
    "reviews_data = pd.read_csv('reviews.csv')"
   ]
  },
  {
   "cell_type": "markdown",
   "metadata": {},
   "source": [
    "## Analyze calendar data"
   ]
  },
  {
   "cell_type": "code",
   "execution_count": 4,
   "metadata": {},
   "outputs": [
    {
     "name": "stdout",
     "output_type": "stream",
     "text": [
      "(1308890, 4)\n",
      "   listing_id        date available price\n",
      "0    12147973  2017-09-05         f   NaN\n",
      "1    12147973  2017-09-04         f   NaN\n",
      "2    12147973  2017-09-03         f   NaN\n",
      "3    12147973  2017-09-02         f   NaN\n",
      "4    12147973  2017-09-01         f   NaN\n",
      "#############################################################\n",
      "         listing_id\n",
      "count  1.308890e+06\n",
      "mean   8.442118e+06\n",
      "std    4.500149e+06\n",
      "min    3.353000e+03\n",
      "25%    4.679319e+06\n",
      "50%    8.578710e+06\n",
      "75%    1.279603e+07\n",
      "max    1.493346e+07\n"
     ]
    }
   ],
   "source": [
    "print(calendar_data.shape)\n",
    "print(calendar_data.head())\n",
    "print('#############################################################')\n",
    "print(calendar_data.describe())"
   ]
  },
  {
   "cell_type": "markdown",
   "metadata": {},
   "source": [
    "I wanted to see if there are some invalid data in the columns and if so, what is their percentage to all the data.\n",
    "\n",
    "There seem to be many invalid numbers for price. I will have to clean it later. \n"
   ]
  },
  {
   "cell_type": "code",
   "execution_count": 5,
   "metadata": {},
   "outputs": [
    {
     "data": {
      "text/plain": [
       "listing_id     0.000000\n",
       "date           0.000000\n",
       "available      0.000000\n",
       "price         50.871578\n",
       "dtype: float64"
      ]
     },
     "execution_count": 5,
     "metadata": {},
     "output_type": "execute_result"
    }
   ],
   "source": [
    "(calendar_data.isnull().sum()/calendar_data.shape[0])*100"
   ]
  },
  {
   "cell_type": "markdown",
   "metadata": {},
   "source": [
    "## Analyze reviews data"
   ]
  },
  {
   "cell_type": "code",
   "execution_count": 6,
   "metadata": {},
   "outputs": [
    {
     "name": "stdout",
     "output_type": "stream",
     "text": [
      "(68275, 6)\n",
      "   listing_id       id        date  reviewer_id reviewer_name  \\\n",
      "0     1178162  4724140  2013-05-21      4298113       Olivier   \n",
      "1     1178162  4869189  2013-05-29      6452964     Charlotte   \n",
      "2     1178162  5003196  2013-06-06      6449554     Sebastian   \n",
      "3     1178162  5150351  2013-06-15      2215611        Marine   \n",
      "4     1178162  5171140  2013-06-16      6848427        Andrew   \n",
      "\n",
      "                                            comments  \n",
      "0  My stay at islam's place was really cool! Good...  \n",
      "1  Great location for both airport and city - gre...  \n",
      "2  We really enjoyed our stay at Islams house. Fr...  \n",
      "3  The room was nice and clean and so were the co...  \n",
      "4  Great location. Just 5 mins walk from the Airp...  \n",
      "#############################################################\n",
      "         listing_id            id   reviewer_id\n",
      "count  6.827500e+04  6.827500e+04  6.827500e+04\n",
      "mean   4.759910e+06  5.246516e+07  2.802389e+07\n",
      "std    3.788990e+06  2.790991e+07  2.234097e+07\n",
      "min    3.353000e+03  1.021000e+03  1.430000e+02\n",
      "25%    1.458081e+06  3.010420e+07  9.001346e+06\n",
      "50%    4.080000e+06  5.223121e+07  2.305179e+07\n",
      "75%    7.377034e+06  7.663248e+07  4.213454e+07\n",
      "max    1.484378e+07  9.999045e+07  9.335034e+07\n"
     ]
    }
   ],
   "source": [
    "print(reviews_data.shape)\n",
    "print(reviews_data.head())\n",
    "print('#############################################################')\n",
    "print(reviews_data.describe())"
   ]
  },
  {
   "cell_type": "markdown",
   "metadata": {},
   "source": [
    "Again, I wanted to see what is the percentage of invalid data in each column. Not so many this time, can clean them later."
   ]
  },
  {
   "cell_type": "code",
   "execution_count": 7,
   "metadata": {},
   "outputs": [
    {
     "data": {
      "text/plain": [
       "listing_id       0.000000\n",
       "id               0.000000\n",
       "date             0.000000\n",
       "reviewer_id      0.000000\n",
       "reviewer_name    0.000000\n",
       "comments         0.077627\n",
       "dtype: float64"
      ]
     },
     "execution_count": 7,
     "metadata": {},
     "output_type": "execute_result"
    }
   ],
   "source": [
    "(reviews_data.isnull().sum()/reviews_data.shape[0])*100"
   ]
  },
  {
   "cell_type": "markdown",
   "metadata": {},
   "source": [
    "## Analyze listings data"
   ]
  },
  {
   "cell_type": "code",
   "execution_count": 8,
   "metadata": {
    "scrolled": true
   },
   "outputs": [
    {
     "name": "stdout",
     "output_type": "stream",
     "text": [
      "(3585, 95)\n",
      "         id                            listing_url       scrape_id  \\\n",
      "0  12147973  https://www.airbnb.com/rooms/12147973  20160906204935   \n",
      "1   3075044   https://www.airbnb.com/rooms/3075044  20160906204935   \n",
      "2      6976      https://www.airbnb.com/rooms/6976  20160906204935   \n",
      "3   1436513   https://www.airbnb.com/rooms/1436513  20160906204935   \n",
      "4   7651065   https://www.airbnb.com/rooms/7651065  20160906204935   \n",
      "\n",
      "  last_scraped                                           name  \\\n",
      "0   2016-09-07                     Sunny Bungalow in the City   \n",
      "1   2016-09-07              Charming room in pet friendly apt   \n",
      "2   2016-09-07               Mexican Folk Art Haven in Boston   \n",
      "3   2016-09-07  Spacious Sunny Bedroom Suite in Historic Home   \n",
      "4   2016-09-07                            Come Home to Boston   \n",
      "\n",
      "                                             summary  \\\n",
      "0  Cozy, sunny, family home.  Master bedroom high...   \n",
      "1  Charming and quiet room in a second floor 1910...   \n",
      "2  Come stay with a friendly, middle-aged guy in ...   \n",
      "3  Come experience the comforts of home away from...   \n",
      "4  My comfy, clean and relaxing home is one block...   \n",
      "\n",
      "                                               space  \\\n",
      "0  The house has an open and cozy feel at the sam...   \n",
      "1  Small but cozy and quite room with a full size...   \n",
      "2  Come stay with a friendly, middle-aged guy in ...   \n",
      "3  Most places you find in Boston are small howev...   \n",
      "4  Clean, attractive, private room, one block fro...   \n",
      "\n",
      "                                         description experiences_offered  \\\n",
      "0  Cozy, sunny, family home.  Master bedroom high...                none   \n",
      "1  Charming and quiet room in a second floor 1910...                none   \n",
      "2  Come stay with a friendly, middle-aged guy in ...                none   \n",
      "3  Come experience the comforts of home away from...                none   \n",
      "4  My comfy, clean and relaxing home is one block...                none   \n",
      "\n",
      "                               neighborhood_overview        ...          \\\n",
      "0  Roslindale is quiet, convenient and friendly. ...        ...           \n",
      "1  The room is in Roslindale, a diverse and prima...        ...           \n",
      "2  The LOCATION: Roslindale is a safe and diverse...        ...           \n",
      "3  Roslindale is a lovely little neighborhood loc...        ...           \n",
      "4  I love the proximity to downtown, the neighbor...        ...           \n",
      "\n",
      "  review_scores_value requires_license license jurisdiction_names  \\\n",
      "0                 NaN                f     NaN                NaN   \n",
      "1                 9.0                f     NaN                NaN   \n",
      "2                10.0                f     NaN                NaN   \n",
      "3                10.0                f     NaN                NaN   \n",
      "4                10.0                f     NaN                NaN   \n",
      "\n",
      "  instant_bookable cancellation_policy require_guest_profile_picture  \\\n",
      "0                f            moderate                             f   \n",
      "1                t            moderate                             f   \n",
      "2                f            moderate                             t   \n",
      "3                f            moderate                             f   \n",
      "4                f            flexible                             f   \n",
      "\n",
      "  require_guest_phone_verification calculated_host_listings_count  \\\n",
      "0                                f                              1   \n",
      "1                                f                              1   \n",
      "2                                f                              1   \n",
      "3                                f                              1   \n",
      "4                                f                              1   \n",
      "\n",
      "   reviews_per_month  \n",
      "0                NaN  \n",
      "1               1.30  \n",
      "2               0.47  \n",
      "3               1.00  \n",
      "4               2.25  \n",
      "\n",
      "[5 rows x 95 columns]\n",
      "#############################################################\n",
      "                 id     scrape_id       host_id  host_listings_count  \\\n",
      "count  3.585000e+03  3.585000e+03  3.585000e+03          3585.000000   \n",
      "mean   8.440875e+06  2.016091e+13  2.492311e+07            58.902371   \n",
      "std    4.500787e+06  8.516813e-01  2.292781e+07           171.119663   \n",
      "min    3.353000e+03  2.016091e+13  4.240000e+03             0.000000   \n",
      "25%    4.679319e+06  2.016091e+13  6.103425e+06             1.000000   \n",
      "50%    8.577620e+06  2.016091e+13  1.928100e+07             2.000000   \n",
      "75%    1.278953e+07  2.016091e+13  3.622147e+07             7.000000   \n",
      "max    1.493346e+07  2.016091e+13  9.385411e+07           749.000000   \n",
      "\n",
      "       host_total_listings_count  neighbourhood_group_cleansed     latitude  \\\n",
      "count                3585.000000                           0.0  3585.000000   \n",
      "mean                   58.902371                           NaN    42.340032   \n",
      "std                   171.119663                           NaN     0.024403   \n",
      "min                     0.000000                           NaN    42.235942   \n",
      "25%                     1.000000                           NaN    42.329995   \n",
      "50%                     2.000000                           NaN    42.345201   \n",
      "75%                     7.000000                           NaN    42.354685   \n",
      "max                   749.000000                           NaN    42.389982   \n",
      "\n",
      "         longitude  accommodates    bathrooms        ...          \\\n",
      "count  3585.000000   3585.000000  3571.000000        ...           \n",
      "mean    -71.084818      3.041283     1.221647        ...           \n",
      "std       0.031565      1.778929     0.501487        ...           \n",
      "min     -71.171789      1.000000     0.000000        ...           \n",
      "25%     -71.105083      2.000000     1.000000        ...           \n",
      "50%     -71.078429      2.000000     1.000000        ...           \n",
      "75%     -71.062155      4.000000     1.000000        ...           \n",
      "max     -71.000100     16.000000     6.000000        ...           \n",
      "\n",
      "       review_scores_accuracy  review_scores_cleanliness  \\\n",
      "count             2762.000000                2767.000000   \n",
      "mean                 9.431571                   9.258041   \n",
      "std                  0.931863                   1.168977   \n",
      "min                  2.000000                   2.000000   \n",
      "25%                  9.000000                   9.000000   \n",
      "50%                 10.000000                  10.000000   \n",
      "75%                 10.000000                  10.000000   \n",
      "max                 10.000000                  10.000000   \n",
      "\n",
      "       review_scores_checkin  review_scores_communication  \\\n",
      "count            2765.000000                  2767.000000   \n",
      "mean                9.646293                     9.646549   \n",
      "std                 0.762753                     0.735507   \n",
      "min                 2.000000                     4.000000   \n",
      "25%                 9.000000                     9.000000   \n",
      "50%                10.000000                    10.000000   \n",
      "75%                10.000000                    10.000000   \n",
      "max                10.000000                    10.000000   \n",
      "\n",
      "       review_scores_location  review_scores_value  license  \\\n",
      "count             2763.000000          2764.000000      0.0   \n",
      "mean                 9.414043             9.168234      NaN   \n",
      "std                  0.903436             1.011116      NaN   \n",
      "min                  2.000000             2.000000      NaN   \n",
      "25%                  9.000000             9.000000      NaN   \n",
      "50%                 10.000000             9.000000      NaN   \n",
      "75%                 10.000000            10.000000      NaN   \n",
      "max                 10.000000            10.000000      NaN   \n",
      "\n",
      "       jurisdiction_names  calculated_host_listings_count  reviews_per_month  \n",
      "count                 0.0                     3585.000000        2829.000000  \n",
      "mean                  NaN                       12.733891           1.970908  \n",
      "std                   NaN                       29.415076           2.120561  \n",
      "min                   NaN                        1.000000           0.010000  \n",
      "25%                   NaN                        1.000000           0.480000  \n",
      "50%                   NaN                        2.000000           1.170000  \n",
      "75%                   NaN                        6.000000           2.720000  \n",
      "max                   NaN                      136.000000          19.150000  \n",
      "\n",
      "[8 rows x 33 columns]\n"
     ]
    }
   ],
   "source": [
    "print(listings_data.shape)\n",
    "print(listings_data.head())\n",
    "print('#############################################################')\n",
    "print(listings_data.describe())"
   ]
  },
  {
   "cell_type": "markdown",
   "metadata": {},
   "source": [
    "Again, I wanted to see what is the percentage of invalid data in each column. This file has a huge number of features. I will try to pick only those that help me to answer my questions."
   ]
  },
  {
   "cell_type": "code",
   "execution_count": 9,
   "metadata": {
    "scrolled": true
   },
   "outputs": [
    {
     "data": {
      "text/plain": [
       "id                                    0.000000\n",
       "listing_url                           0.000000\n",
       "scrape_id                             0.000000\n",
       "last_scraped                          0.000000\n",
       "name                                  0.000000\n",
       "summary                               3.988842\n",
       "space                                29.483961\n",
       "description                           0.000000\n",
       "experiences_offered                   0.000000\n",
       "neighborhood_overview                39.470014\n",
       "notes                                55.090656\n",
       "transit                              35.983264\n",
       "access                               41.534170\n",
       "interaction                          43.347280\n",
       "house_rules                          33.249651\n",
       "thumbnail_url                        16.708508\n",
       "medium_url                           16.708508\n",
       "picture_url                           0.000000\n",
       "xl_picture_url                       16.708508\n",
       "host_id                               0.000000\n",
       "host_url                              0.000000\n",
       "host_name                             0.000000\n",
       "host_since                            0.000000\n",
       "host_location                         0.306834\n",
       "host_about                           36.513250\n",
       "host_response_time                   13.138075\n",
       "host_response_rate                   13.138075\n",
       "host_acceptance_rate                 13.138075\n",
       "host_is_superhost                     0.000000\n",
       "host_thumbnail_url                    0.000000\n",
       "                                       ...    \n",
       "guests_included                       0.000000\n",
       "extra_people                          0.000000\n",
       "minimum_nights                        0.000000\n",
       "maximum_nights                        0.000000\n",
       "calendar_updated                      0.000000\n",
       "has_availability                    100.000000\n",
       "availability_30                       0.000000\n",
       "availability_60                       0.000000\n",
       "availability_90                       0.000000\n",
       "availability_365                      0.000000\n",
       "calendar_last_scraped                 0.000000\n",
       "number_of_reviews                     0.000000\n",
       "first_review                         21.087866\n",
       "last_review                          21.087866\n",
       "review_scores_rating                 22.677824\n",
       "review_scores_accuracy               22.956764\n",
       "review_scores_cleanliness            22.817294\n",
       "review_scores_checkin                22.873082\n",
       "review_scores_communication          22.817294\n",
       "review_scores_location               22.928870\n",
       "review_scores_value                  22.900976\n",
       "requires_license                      0.000000\n",
       "license                             100.000000\n",
       "jurisdiction_names                  100.000000\n",
       "instant_bookable                      0.000000\n",
       "cancellation_policy                   0.000000\n",
       "require_guest_profile_picture         0.000000\n",
       "require_guest_phone_verification      0.000000\n",
       "calculated_host_listings_count        0.000000\n",
       "reviews_per_month                    21.087866\n",
       "Length: 95, dtype: float64"
      ]
     },
     "execution_count": 9,
     "metadata": {},
     "output_type": "execute_result"
    }
   ],
   "source": [
    "(listings_data.isnull().sum()/listings_data.shape[0])*100"
   ]
  },
  {
   "cell_type": "markdown",
   "metadata": {},
   "source": [
    "I identify the most useful features that help in answering business questions stated earlier on:\n",
    "\n",
    "* price: price per night\n",
    "* zipcode: zipcode, area\n",
    "* property_type: type of the property\n",
    "* room_type: type of the room\n"
   ]
  },
  {
   "cell_type": "code",
   "execution_count": 27,
   "metadata": {},
   "outputs": [
    {
     "name": "stdout",
     "output_type": "stream",
     "text": [
      "Feature: price\n",
      "Number missing values:  0\n",
      "Datatype <class 'str'>\n",
      "Feature: zipcode\n",
      "Number missing values:  38\n",
      "Datatype <class 'str'>\n",
      "Feature: property_type\n",
      "Number missing values:  3\n",
      "Datatype <class 'str'>\n",
      "Feature: room_type\n",
      "Number missing values:  0\n",
      "Datatype <class 'str'>\n"
     ]
    }
   ],
   "source": [
    "def inspect_feature(feature_name):\n",
    "    print(\"Feature:\", feature_name)\n",
    "    print(\"Number missing values: \", listings_data[feature_name].isna().sum())\n",
    "    print(\"Datatype\", type(listings_data[feature_name].loc[0]))\n",
    "inspect_feature('price')\n",
    "inspect_feature('zipcode')\n",
    "inspect_feature('property_type')\n",
    "inspect_feature('room_type')"
   ]
  },
  {
   "cell_type": "markdown",
   "metadata": {},
   "source": [
    "Those chosen features seem to be quite okay, not many invalid data. Should be easy to clean."
   ]
  },
  {
   "cell_type": "markdown",
   "metadata": {},
   "source": [
    "## Data wrangling:"
   ]
  },
  {
   "cell_type": "markdown",
   "metadata": {},
   "source": [
    "In this phase I actually prepare my dataframes. I clean invalid records, see what is left and if acceptable, rename columns, one-hot encode some of them, change their content as like dropping a Dollar sign to leave the numerical value. I want to end up with clean neat data to use for analysis and visualizations."
   ]
  },
  {
   "cell_type": "markdown",
   "metadata": {},
   "source": [
    "## Listings: Filter features"
   ]
  },
  {
   "cell_type": "code",
   "execution_count": 28,
   "metadata": {},
   "outputs": [
    {
     "name": "stdout",
     "output_type": "stream",
     "text": [
      ">>>>>> Before cleaning:\n",
      "Total shape (3585, 4)\n",
      "Invalid values price             0\n",
      "zipcode          38\n",
      "property_type     3\n",
      "room_type         0\n",
      "dtype: int64\n",
      ">>>>>> After cleaning:\n",
      "Total shape (3544, 4)\n",
      "Invalid values price            0\n",
      "zipcode          0\n",
      "property_type    0\n",
      "room_type        0\n",
      "dtype: int64\n"
     ]
    }
   ],
   "source": [
    "keep_cols = ['price', 'zipcode', 'property_type', 'room_type']\n",
    "\n",
    "listings_df_clean = listings_data[keep_cols].copy()\n",
    "print(\">>>>>> Before cleaning:\")\n",
    "print(\"Total shape\" , listings_df_clean.shape)\n",
    "print(\"Invalid values\" , listings_df_clean.isna().sum())\n",
    "listings_df_clean.dropna(inplace = True)\n",
    "print(\">>>>>> After cleaning:\")\n",
    "print(\"Total shape\" , listings_df_clean.shape)\n",
    "print(\"Invalid values\" , listings_df_clean.isna().sum())"
   ]
  },
  {
   "cell_type": "code",
   "execution_count": 29,
   "metadata": {},
   "outputs": [
    {
     "data": {
      "text/html": [
       "<div>\n",
       "<style scoped>\n",
       "    .dataframe tbody tr th:only-of-type {\n",
       "        vertical-align: middle;\n",
       "    }\n",
       "\n",
       "    .dataframe tbody tr th {\n",
       "        vertical-align: top;\n",
       "    }\n",
       "\n",
       "    .dataframe thead th {\n",
       "        text-align: right;\n",
       "    }\n",
       "</style>\n",
       "<table border=\"1\" class=\"dataframe\">\n",
       "  <thead>\n",
       "    <tr style=\"text-align: right;\">\n",
       "      <th></th>\n",
       "      <th>price</th>\n",
       "      <th>zipcode</th>\n",
       "      <th>property_type</th>\n",
       "      <th>room_type</th>\n",
       "    </tr>\n",
       "  </thead>\n",
       "  <tbody>\n",
       "    <tr>\n",
       "      <th>0</th>\n",
       "      <td>$250.00</td>\n",
       "      <td>02131</td>\n",
       "      <td>House</td>\n",
       "      <td>Entire home/apt</td>\n",
       "    </tr>\n",
       "    <tr>\n",
       "      <th>1</th>\n",
       "      <td>$65.00</td>\n",
       "      <td>02131</td>\n",
       "      <td>Apartment</td>\n",
       "      <td>Private room</td>\n",
       "    </tr>\n",
       "    <tr>\n",
       "      <th>2</th>\n",
       "      <td>$65.00</td>\n",
       "      <td>02131</td>\n",
       "      <td>Apartment</td>\n",
       "      <td>Private room</td>\n",
       "    </tr>\n",
       "    <tr>\n",
       "      <th>4</th>\n",
       "      <td>$79.00</td>\n",
       "      <td>02131</td>\n",
       "      <td>House</td>\n",
       "      <td>Private room</td>\n",
       "    </tr>\n",
       "    <tr>\n",
       "      <th>5</th>\n",
       "      <td>$75.00</td>\n",
       "      <td>02131</td>\n",
       "      <td>Condominium</td>\n",
       "      <td>Private room</td>\n",
       "    </tr>\n",
       "  </tbody>\n",
       "</table>\n",
       "</div>"
      ],
      "text/plain": [
       "     price zipcode property_type        room_type\n",
       "0  $250.00   02131         House  Entire home/apt\n",
       "1   $65.00   02131     Apartment     Private room\n",
       "2   $65.00   02131     Apartment     Private room\n",
       "4   $79.00   02131         House     Private room\n",
       "5   $75.00   02131   Condominium     Private room"
      ]
     },
     "execution_count": 29,
     "metadata": {},
     "output_type": "execute_result"
    }
   ],
   "source": [
    "listings_df_clean.head()"
   ]
  },
  {
   "cell_type": "markdown",
   "metadata": {},
   "source": [
    "## Listings: clean and one-hot encode filtered columns"
   ]
  },
  {
   "cell_type": "code",
   "execution_count": 30,
   "metadata": {},
   "outputs": [],
   "source": [
    "# clean price from $ to numerical\n",
    "listings_df_clean['price'] = listings_df_clean['price'].apply(lambda x: float(x[1:].replace(',','')))\n",
    "\n",
    "# clean zipcodes, make sure all 5 digit ints\n",
    "listings_df_clean['zipcode'] = listings_df_clean['zipcode'].apply(lambda x: int(x[:5])) "
   ]
  },
  {
   "cell_type": "code",
   "execution_count": 31,
   "metadata": {},
   "outputs": [
    {
     "data": {
      "text/plain": [
       "array(['House', 'Apartment', 'Condominium', 'Villa', 'Bed & Breakfast',\n",
       "       'Townhouse', 'Entire Floor', 'Loft', 'Guesthouse', 'Boat', 'Dorm',\n",
       "       'Other', 'Camper/RV'], dtype=object)"
      ]
     },
     "execution_count": 31,
     "metadata": {},
     "output_type": "execute_result"
    }
   ],
   "source": [
    "listings_df_clean['property_type'].unique()"
   ]
  },
  {
   "cell_type": "code",
   "execution_count": 32,
   "metadata": {},
   "outputs": [
    {
     "data": {
      "text/plain": [
       "array(['Entire home/apt', 'Private room', 'Shared room'], dtype=object)"
      ]
     },
     "execution_count": 32,
     "metadata": {},
     "output_type": "execute_result"
    }
   ],
   "source": [
    "listings_df_clean['room_type'].unique()"
   ]
  },
  {
   "cell_type": "code",
   "execution_count": 33,
   "metadata": {},
   "outputs": [],
   "source": [
    "# one hot encode room type\n",
    "listings_df_clean = pd.concat([listings_df_clean, pd.get_dummies(listings_df_clean['room_type'])], axis=1);\n",
    "\n",
    "# rename the columns\n",
    "listings_df_clean.rename(columns={'Entire home/apt': 'entire_home_apt', \n",
    "                   'Private room': 'private_room','Shared room': 'shared_room'}, inplace=True)"
   ]
  },
  {
   "cell_type": "code",
   "execution_count": 34,
   "metadata": {},
   "outputs": [
    {
     "data": {
      "text/html": [
       "<div>\n",
       "<style scoped>\n",
       "    .dataframe tbody tr th:only-of-type {\n",
       "        vertical-align: middle;\n",
       "    }\n",
       "\n",
       "    .dataframe tbody tr th {\n",
       "        vertical-align: top;\n",
       "    }\n",
       "\n",
       "    .dataframe thead th {\n",
       "        text-align: right;\n",
       "    }\n",
       "</style>\n",
       "<table border=\"1\" class=\"dataframe\">\n",
       "  <thead>\n",
       "    <tr style=\"text-align: right;\">\n",
       "      <th></th>\n",
       "      <th>price</th>\n",
       "      <th>zipcode</th>\n",
       "      <th>property_type</th>\n",
       "      <th>room_type</th>\n",
       "      <th>entire_home_apt</th>\n",
       "      <th>private_room</th>\n",
       "      <th>shared_room</th>\n",
       "    </tr>\n",
       "  </thead>\n",
       "  <tbody>\n",
       "    <tr>\n",
       "      <th>0</th>\n",
       "      <td>250.0</td>\n",
       "      <td>2131</td>\n",
       "      <td>House</td>\n",
       "      <td>Entire home/apt</td>\n",
       "      <td>1</td>\n",
       "      <td>0</td>\n",
       "      <td>0</td>\n",
       "    </tr>\n",
       "    <tr>\n",
       "      <th>1</th>\n",
       "      <td>65.0</td>\n",
       "      <td>2131</td>\n",
       "      <td>Apartment</td>\n",
       "      <td>Private room</td>\n",
       "      <td>0</td>\n",
       "      <td>1</td>\n",
       "      <td>0</td>\n",
       "    </tr>\n",
       "    <tr>\n",
       "      <th>2</th>\n",
       "      <td>65.0</td>\n",
       "      <td>2131</td>\n",
       "      <td>Apartment</td>\n",
       "      <td>Private room</td>\n",
       "      <td>0</td>\n",
       "      <td>1</td>\n",
       "      <td>0</td>\n",
       "    </tr>\n",
       "    <tr>\n",
       "      <th>4</th>\n",
       "      <td>79.0</td>\n",
       "      <td>2131</td>\n",
       "      <td>House</td>\n",
       "      <td>Private room</td>\n",
       "      <td>0</td>\n",
       "      <td>1</td>\n",
       "      <td>0</td>\n",
       "    </tr>\n",
       "    <tr>\n",
       "      <th>5</th>\n",
       "      <td>75.0</td>\n",
       "      <td>2131</td>\n",
       "      <td>Condominium</td>\n",
       "      <td>Private room</td>\n",
       "      <td>0</td>\n",
       "      <td>1</td>\n",
       "      <td>0</td>\n",
       "    </tr>\n",
       "  </tbody>\n",
       "</table>\n",
       "</div>"
      ],
      "text/plain": [
       "   price  zipcode property_type        room_type  entire_home_apt  \\\n",
       "0  250.0     2131         House  Entire home/apt                1   \n",
       "1   65.0     2131     Apartment     Private room                0   \n",
       "2   65.0     2131     Apartment     Private room                0   \n",
       "4   79.0     2131         House     Private room                0   \n",
       "5   75.0     2131   Condominium     Private room                0   \n",
       "\n",
       "   private_room  shared_room  \n",
       "0             0            0  \n",
       "1             1            0  \n",
       "2             1            0  \n",
       "4             1            0  \n",
       "5             1            0  "
      ]
     },
     "execution_count": 34,
     "metadata": {},
     "output_type": "execute_result"
    }
   ],
   "source": [
    "listings_df_clean.head()"
   ]
  },
  {
   "cell_type": "markdown",
   "metadata": {},
   "source": [
    "## Calendar: Filter features"
   ]
  },
  {
   "cell_type": "code",
   "execution_count": 35,
   "metadata": {},
   "outputs": [
    {
     "name": "stdout",
     "output_type": "stream",
     "text": [
      ">>>>>> Before cleaning:\n",
      "Total shape (1308890, 4)\n",
      "Invalid values listing_id         0\n",
      "date               0\n",
      "available          0\n",
      "price         665853\n",
      "dtype: int64\n",
      ">>>>>> After cleaning:\n",
      "Total shape (643037, 4)\n",
      "Invalid values listing_id    0\n",
      "date          0\n",
      "available     0\n",
      "price         0\n",
      "dtype: int64\n"
     ]
    }
   ],
   "source": [
    "calendar_df_clean = calendar_data.copy()\n",
    "\n",
    "print(\">>>>>> Before cleaning:\")\n",
    "print(\"Total shape\" , calendar_df_clean.shape)\n",
    "print(\"Invalid values\" , calendar_df_clean.isna().sum())\n",
    "calendar_df_clean.dropna(inplace = True)\n",
    "print(\">>>>>> After cleaning:\")\n",
    "print(\"Total shape\" , calendar_df_clean.shape)\n",
    "print(\"Invalid values\" , calendar_df_clean.isna().sum())"
   ]
  },
  {
   "cell_type": "code",
   "execution_count": 36,
   "metadata": {},
   "outputs": [
    {
     "data": {
      "text/html": [
       "<div>\n",
       "<style scoped>\n",
       "    .dataframe tbody tr th:only-of-type {\n",
       "        vertical-align: middle;\n",
       "    }\n",
       "\n",
       "    .dataframe tbody tr th {\n",
       "        vertical-align: top;\n",
       "    }\n",
       "\n",
       "    .dataframe thead th {\n",
       "        text-align: right;\n",
       "    }\n",
       "</style>\n",
       "<table border=\"1\" class=\"dataframe\">\n",
       "  <thead>\n",
       "    <tr style=\"text-align: right;\">\n",
       "      <th></th>\n",
       "      <th>listing_id</th>\n",
       "      <th>date</th>\n",
       "      <th>available</th>\n",
       "      <th>price</th>\n",
       "    </tr>\n",
       "  </thead>\n",
       "  <tbody>\n",
       "    <tr>\n",
       "      <th>365</th>\n",
       "      <td>3075044</td>\n",
       "      <td>2017-08-22</td>\n",
       "      <td>t</td>\n",
       "      <td>$65.00</td>\n",
       "    </tr>\n",
       "    <tr>\n",
       "      <th>366</th>\n",
       "      <td>3075044</td>\n",
       "      <td>2017-08-21</td>\n",
       "      <td>t</td>\n",
       "      <td>$65.00</td>\n",
       "    </tr>\n",
       "    <tr>\n",
       "      <th>367</th>\n",
       "      <td>3075044</td>\n",
       "      <td>2017-08-20</td>\n",
       "      <td>t</td>\n",
       "      <td>$65.00</td>\n",
       "    </tr>\n",
       "    <tr>\n",
       "      <th>368</th>\n",
       "      <td>3075044</td>\n",
       "      <td>2017-08-19</td>\n",
       "      <td>t</td>\n",
       "      <td>$75.00</td>\n",
       "    </tr>\n",
       "    <tr>\n",
       "      <th>369</th>\n",
       "      <td>3075044</td>\n",
       "      <td>2017-08-18</td>\n",
       "      <td>t</td>\n",
       "      <td>$75.00</td>\n",
       "    </tr>\n",
       "  </tbody>\n",
       "</table>\n",
       "</div>"
      ],
      "text/plain": [
       "     listing_id        date available   price\n",
       "365     3075044  2017-08-22         t  $65.00\n",
       "366     3075044  2017-08-21         t  $65.00\n",
       "367     3075044  2017-08-20         t  $65.00\n",
       "368     3075044  2017-08-19         t  $75.00\n",
       "369     3075044  2017-08-18         t  $75.00"
      ]
     },
     "execution_count": 36,
     "metadata": {},
     "output_type": "execute_result"
    }
   ],
   "source": [
    "calendar_df_clean.head()"
   ]
  },
  {
   "cell_type": "markdown",
   "metadata": {},
   "source": [
    "## Calendar: clean and alter date feature of filtered columns"
   ]
  },
  {
   "cell_type": "code",
   "execution_count": 37,
   "metadata": {},
   "outputs": [],
   "source": [
    "# clean price from $ to numerical\n",
    "calendar_df_clean['price'] = calendar_df_clean['price'].apply(lambda x: float(x[1:].replace(',','')))\n",
    "\n",
    "# extract year and month, drop days\n",
    "calendar_df_clean['year-month'] = calendar_df_clean['date'].apply(lambda x: '-'.join(x.split('-')[:2]))\n",
    "calendar_df_clean.drop(columns = ['date'], inplace = True)"
   ]
  },
  {
   "cell_type": "code",
   "execution_count": 38,
   "metadata": {},
   "outputs": [
    {
     "data": {
      "text/html": [
       "<div>\n",
       "<style scoped>\n",
       "    .dataframe tbody tr th:only-of-type {\n",
       "        vertical-align: middle;\n",
       "    }\n",
       "\n",
       "    .dataframe tbody tr th {\n",
       "        vertical-align: top;\n",
       "    }\n",
       "\n",
       "    .dataframe thead th {\n",
       "        text-align: right;\n",
       "    }\n",
       "</style>\n",
       "<table border=\"1\" class=\"dataframe\">\n",
       "  <thead>\n",
       "    <tr style=\"text-align: right;\">\n",
       "      <th></th>\n",
       "      <th>listing_id</th>\n",
       "      <th>available</th>\n",
       "      <th>price</th>\n",
       "      <th>year-month</th>\n",
       "    </tr>\n",
       "  </thead>\n",
       "  <tbody>\n",
       "    <tr>\n",
       "      <th>365</th>\n",
       "      <td>3075044</td>\n",
       "      <td>t</td>\n",
       "      <td>65.0</td>\n",
       "      <td>2017-08</td>\n",
       "    </tr>\n",
       "    <tr>\n",
       "      <th>366</th>\n",
       "      <td>3075044</td>\n",
       "      <td>t</td>\n",
       "      <td>65.0</td>\n",
       "      <td>2017-08</td>\n",
       "    </tr>\n",
       "    <tr>\n",
       "      <th>367</th>\n",
       "      <td>3075044</td>\n",
       "      <td>t</td>\n",
       "      <td>65.0</td>\n",
       "      <td>2017-08</td>\n",
       "    </tr>\n",
       "    <tr>\n",
       "      <th>368</th>\n",
       "      <td>3075044</td>\n",
       "      <td>t</td>\n",
       "      <td>75.0</td>\n",
       "      <td>2017-08</td>\n",
       "    </tr>\n",
       "    <tr>\n",
       "      <th>369</th>\n",
       "      <td>3075044</td>\n",
       "      <td>t</td>\n",
       "      <td>75.0</td>\n",
       "      <td>2017-08</td>\n",
       "    </tr>\n",
       "  </tbody>\n",
       "</table>\n",
       "</div>"
      ],
      "text/plain": [
       "     listing_id available  price year-month\n",
       "365     3075044         t   65.0    2017-08\n",
       "366     3075044         t   65.0    2017-08\n",
       "367     3075044         t   65.0    2017-08\n",
       "368     3075044         t   75.0    2017-08\n",
       "369     3075044         t   75.0    2017-08"
      ]
     },
     "execution_count": 38,
     "metadata": {},
     "output_type": "execute_result"
    }
   ],
   "source": [
    "calendar_df_clean.head()"
   ]
  },
  {
   "cell_type": "markdown",
   "metadata": {},
   "source": [
    "## Reviews: Filter features"
   ]
  },
  {
   "cell_type": "code",
   "execution_count": 39,
   "metadata": {
    "scrolled": true
   },
   "outputs": [
    {
     "name": "stdout",
     "output_type": "stream",
     "text": [
      ">>>>>> Before cleaning:\n",
      "Total shape (68275, 6)\n",
      "Invalid values listing_id        0\n",
      "id                0\n",
      "date              0\n",
      "reviewer_id       0\n",
      "reviewer_name     0\n",
      "comments         53\n",
      "dtype: int64\n",
      ">>>>>> After cleaning:\n",
      "Total shape (68222, 6)\n",
      "Invalid values listing_id       0\n",
      "id               0\n",
      "date             0\n",
      "reviewer_id      0\n",
      "reviewer_name    0\n",
      "comments         0\n",
      "dtype: int64\n"
     ]
    }
   ],
   "source": [
    "reviews_df_clean = reviews_data.copy()\n",
    "\n",
    "print(\">>>>>> Before cleaning:\")\n",
    "print(\"Total shape\" , reviews_df_clean.shape)\n",
    "print(\"Invalid values\" , reviews_df_clean.isna().sum())\n",
    "reviews_df_clean.dropna(inplace = True)\n",
    "print(\">>>>>> After cleaning:\")\n",
    "print(\"Total shape\" , reviews_df_clean.shape)\n",
    "print(\"Invalid values\" , reviews_df_clean.isna().sum())"
   ]
  },
  {
   "cell_type": "code",
   "execution_count": 40,
   "metadata": {},
   "outputs": [
    {
     "data": {
      "text/html": [
       "<div>\n",
       "<style scoped>\n",
       "    .dataframe tbody tr th:only-of-type {\n",
       "        vertical-align: middle;\n",
       "    }\n",
       "\n",
       "    .dataframe tbody tr th {\n",
       "        vertical-align: top;\n",
       "    }\n",
       "\n",
       "    .dataframe thead th {\n",
       "        text-align: right;\n",
       "    }\n",
       "</style>\n",
       "<table border=\"1\" class=\"dataframe\">\n",
       "  <thead>\n",
       "    <tr style=\"text-align: right;\">\n",
       "      <th></th>\n",
       "      <th>listing_id</th>\n",
       "      <th>id</th>\n",
       "      <th>date</th>\n",
       "      <th>reviewer_id</th>\n",
       "      <th>reviewer_name</th>\n",
       "      <th>comments</th>\n",
       "    </tr>\n",
       "  </thead>\n",
       "  <tbody>\n",
       "    <tr>\n",
       "      <th>0</th>\n",
       "      <td>1178162</td>\n",
       "      <td>4724140</td>\n",
       "      <td>2013-05-21</td>\n",
       "      <td>4298113</td>\n",
       "      <td>Olivier</td>\n",
       "      <td>My stay at islam's place was really cool! Good...</td>\n",
       "    </tr>\n",
       "    <tr>\n",
       "      <th>1</th>\n",
       "      <td>1178162</td>\n",
       "      <td>4869189</td>\n",
       "      <td>2013-05-29</td>\n",
       "      <td>6452964</td>\n",
       "      <td>Charlotte</td>\n",
       "      <td>Great location for both airport and city - gre...</td>\n",
       "    </tr>\n",
       "    <tr>\n",
       "      <th>2</th>\n",
       "      <td>1178162</td>\n",
       "      <td>5003196</td>\n",
       "      <td>2013-06-06</td>\n",
       "      <td>6449554</td>\n",
       "      <td>Sebastian</td>\n",
       "      <td>We really enjoyed our stay at Islams house. Fr...</td>\n",
       "    </tr>\n",
       "    <tr>\n",
       "      <th>3</th>\n",
       "      <td>1178162</td>\n",
       "      <td>5150351</td>\n",
       "      <td>2013-06-15</td>\n",
       "      <td>2215611</td>\n",
       "      <td>Marine</td>\n",
       "      <td>The room was nice and clean and so were the co...</td>\n",
       "    </tr>\n",
       "    <tr>\n",
       "      <th>4</th>\n",
       "      <td>1178162</td>\n",
       "      <td>5171140</td>\n",
       "      <td>2013-06-16</td>\n",
       "      <td>6848427</td>\n",
       "      <td>Andrew</td>\n",
       "      <td>Great location. Just 5 mins walk from the Airp...</td>\n",
       "    </tr>\n",
       "  </tbody>\n",
       "</table>\n",
       "</div>"
      ],
      "text/plain": [
       "   listing_id       id        date  reviewer_id reviewer_name  \\\n",
       "0     1178162  4724140  2013-05-21      4298113       Olivier   \n",
       "1     1178162  4869189  2013-05-29      6452964     Charlotte   \n",
       "2     1178162  5003196  2013-06-06      6449554     Sebastian   \n",
       "3     1178162  5150351  2013-06-15      2215611        Marine   \n",
       "4     1178162  5171140  2013-06-16      6848427        Andrew   \n",
       "\n",
       "                                            comments  \n",
       "0  My stay at islam's place was really cool! Good...  \n",
       "1  Great location for both airport and city - gre...  \n",
       "2  We really enjoyed our stay at Islams house. Fr...  \n",
       "3  The room was nice and clean and so were the co...  \n",
       "4  Great location. Just 5 mins walk from the Airp...  "
      ]
     },
     "execution_count": 40,
     "metadata": {},
     "output_type": "execute_result"
    }
   ],
   "source": [
    "reviews_df_clean.head()"
   ]
  },
  {
   "cell_type": "markdown",
   "metadata": {},
   "source": [
    "# Adress business questions"
   ]
  },
  {
   "cell_type": "markdown",
   "metadata": {},
   "source": [
    "Now, I have cleaned and prepared all three original dataframes so that business questions can be addressed directly. Let's start."
   ]
  },
  {
   "cell_type": "markdown",
   "metadata": {},
   "source": [
    "##  Question 1: What is the price distribution for each room type?"
   ]
  },
  {
   "cell_type": "code",
   "execution_count": 41,
   "metadata": {},
   "outputs": [
    {
     "data": {
      "image/png": "[encoded data removed]",
      "text/plain": [
       "<Figure size 432x288 with 1 Axes>"
      ]
     },
     "metadata": {
      "needs_background": "light"
     },
     "output_type": "display_data"
    }
   ],
   "source": [
    "listings_df_clean['price'].hist(bins=100);\n",
    "plt.suptitle(\"Distribution of all prices\");   \n",
    "plt.xlabel('Price');\n",
    "plt.ylabel('Number of listings');"
   ]
  },
  {
   "cell_type": "markdown",
   "metadata": {},
   "source": [
    "For better clarity I will consider only those under 1200 Dollar, otherwise the few outliers make it hard to see."
   ]
  },
  {
   "cell_type": "code",
   "execution_count": 42,
   "metadata": {},
   "outputs": [
    {
     "data": {
      "image/png": "[encoded data removed]",
      "text/plain": [
       "<Figure size 432x288 with 1 Axes>"
      ]
     },
     "metadata": {
      "needs_background": "light"
     },
     "output_type": "display_data"
    }
   ],
   "source": [
    "listings_df_clean[listings_df_clean['price'] <1200].price.hist(bins=100);\n",
    "plt.suptitle(\"ZoomedIn: Distribution of all prices (under $1,200)\");   \n",
    "plt.xlabel('Price');\n",
    "plt.ylabel('Number of listings');"
   ]
  },
  {
   "cell_type": "markdown",
   "metadata": {},
   "source": [
    "Now I want to calculate price distribution per room type."
   ]
  },
  {
   "cell_type": "markdown",
   "metadata": {},
   "source": [
    "For shared room:"
   ]
  },
  {
   "cell_type": "code",
   "execution_count": 43,
   "metadata": {},
   "outputs": [
    {
     "data": {
      "text/plain": [
       "count     79.000000\n",
       "mean      93.177215\n",
       "std      109.364922\n",
       "min       20.000000\n",
       "25%       45.000000\n",
       "50%       60.000000\n",
       "75%       99.000000\n",
       "max      750.000000\n",
       "Name: price, dtype: float64"
      ]
     },
     "execution_count": 43,
     "metadata": {},
     "output_type": "execute_result"
    },
    {
     "data": {
      "image/png": "[encoded data removed]",
      "text/plain": [
       "<Figure size 432x288 with 1 Axes>"
      ]
     },
     "metadata": {
      "needs_background": "light"
     },
     "output_type": "display_data"
    }
   ],
   "source": [
    "listings_df_clean[(listings_df_clean['price'] < 1200) & (listings_df_clean['shared_room'] == 1)]['price'].hist(bins=100)\n",
    "plt.suptitle(\"Price distribution for shared room (under $1,200)\")\n",
    "plt.xlabel('Price')\n",
    "plt.ylabel('Number of listings')\n",
    "listings_df_clean[listings_df_clean['shared_room'] == 1]['price'].describe()"
   ]
  },
  {
   "cell_type": "markdown",
   "metadata": {},
   "source": [
    "For private room:"
   ]
  },
  {
   "cell_type": "code",
   "execution_count": 44,
   "metadata": {
    "scrolled": true
   },
   "outputs": [
    {
     "data": {
      "text/plain": [
       "count    1354.000000\n",
       "mean       95.839734\n",
       "std        85.277887\n",
       "min        20.000000\n",
       "25%        62.000000\n",
       "50%        79.000000\n",
       "75%       100.000000\n",
       "max      1400.000000\n",
       "Name: price, dtype: float64"
      ]
     },
     "execution_count": 44,
     "metadata": {},
     "output_type": "execute_result"
    },
    {
     "data": {
      "image/png": "[encoded data removed]",
      "text/plain": [
       "<Figure size 432x288 with 1 Axes>"
      ]
     },
     "metadata": {
      "needs_background": "light"
     },
     "output_type": "display_data"
    }
   ],
   "source": [
    "listings_df_clean[(listings_df_clean['price'] <1200) & (listings_df_clean['private_room'] == 1)]['price'].hist(bins=100)\n",
    "plt.suptitle(\"Price distribution for private room (under $1,200)\")\n",
    "plt.xlabel('Price')\n",
    "plt.ylabel('Number of listings')\n",
    "listings_df_clean[listings_df_clean['private_room'] == 1]['price'].describe()"
   ]
  },
  {
   "cell_type": "markdown",
   "metadata": {},
   "source": [
    "For entire apartment:"
   ]
  },
  {
   "cell_type": "code",
   "execution_count": 45,
   "metadata": {},
   "outputs": [
    {
     "data": {
      "text/plain": [
       "count    2111.000000\n",
       "mean      227.842729\n",
       "std       158.313202\n",
       "min        11.000000\n",
       "25%       150.000000\n",
       "50%       199.000000\n",
       "75%       270.000000\n",
       "max      4000.000000\n",
       "Name: price, dtype: float64"
      ]
     },
     "execution_count": 45,
     "metadata": {},
     "output_type": "execute_result"
    },
    {
     "data": {
      "image/png": "[encoded data removed]",
      "text/plain": [
       "<Figure size 432x288 with 1 Axes>"
      ]
     },
     "metadata": {
      "needs_background": "light"
     },
     "output_type": "display_data"
    }
   ],
   "source": [
    "listings_df_clean[(listings_df_clean['price'] <1200) & (listings_df_clean['entire_home_apt'] == 1)]['price'].hist(bins=100)\n",
    "plt.suptitle(\"Price distribution for entire apartment (under $1,200)\")\n",
    "plt.xlabel('Price')\n",
    "plt.ylabel('Number of listings')\n",
    "listings_df_clean[listings_df_clean['entire_home_apt'] == 1]['price'].describe()"
   ]
  },
  {
   "cell_type": "markdown",
   "metadata": {},
   "source": [
    "## Question 2: How is the price changing over time (count in months) and what are the top 5 average most expensive zipcodes all time?"
   ]
  },
  {
   "cell_type": "code",
   "execution_count": 46,
   "metadata": {},
   "outputs": [
    {
     "data": {
      "text/plain": [
       "'2017-09'"
      ]
     },
     "execution_count": 46,
     "metadata": {},
     "output_type": "execute_result"
    }
   ],
   "source": [
    "calendar_df_clean['year-month'].max()"
   ]
  },
  {
   "cell_type": "code",
   "execution_count": 47,
   "metadata": {},
   "outputs": [
    {
     "data": {
      "text/plain": [
       "Text(0.5, 1.0, 'Price average each month')"
      ]
     },
     "execution_count": 47,
     "metadata": {},
     "output_type": "execute_result"
    },
    {
     "data": {
      "image/png": "[encoded data removed]",
      "text/plain": [
       "<Figure size 432x288 with 1 Axes>"
      ]
     },
     "metadata": {
      "needs_background": "light"
     },
     "output_type": "display_data"
    }
   ],
   "source": [
    "price_per_month_df = pd.DataFrame(calendar_df_clean.groupby('year-month').mean()).reset_index()\n",
    "price_per_month_df.plot.bar(x='year-month',y='price',color='green')\n",
    "plt.ylabel('Average ($)')\n",
    "plt.title(\"Price average each month\")"
   ]
  },
  {
   "cell_type": "markdown",
   "metadata": {},
   "source": [
    "Quick check on the top 5 most expensive zip codes.\n",
    "Firstly, considering individual value price.\n",
    "Then, after averaging per zipcode, all prices, all time."
   ]
  },
  {
   "cell_type": "code",
   "execution_count": 48,
   "metadata": {},
   "outputs": [
    {
     "data": {
      "text/plain": [
       "zipcode\n",
       "2215    4000.0\n",
       "2210    3000.0\n",
       "2118    1400.0\n",
       "2115    1372.0\n",
       "2114    1345.0\n",
       "Name: max, dtype: float64"
      ]
     },
     "execution_count": 48,
     "metadata": {},
     "output_type": "execute_result"
    }
   ],
   "source": [
    "auxiliary_df_zipcode_stats = listings_df_clean.groupby('zipcode')['price'].describe() #.count()\n",
    "top_5_expensive_individual = auxiliary_df_zipcode_stats.sort_values(['max'], ascending = False)['max'].head(5)\n",
    "top_5_expensive_mean = auxiliary_df_zipcode_stats.sort_values(['mean'], ascending = False)['mean'].head(5)\n",
    "\n",
    "top_5_expensive_individual"
   ]
  },
  {
   "cell_type": "code",
   "execution_count": 49,
   "metadata": {},
   "outputs": [
    {
     "name": "stdout",
     "output_type": "stream",
     "text": [
      "Those are top 5 most expensive zipcodes on average, all time:\n"
     ]
    },
    {
     "data": {
      "text/plain": [
       "zipcode\n",
       "2210    313.440000\n",
       "2110    281.083333\n",
       "2142    270.000000\n",
       "2111    253.535354\n",
       "2109    238.941176\n",
       "Name: mean, dtype: float64"
      ]
     },
     "execution_count": 49,
     "metadata": {},
     "output_type": "execute_result"
    }
   ],
   "source": [
    "print(\"Those are top 5 most expensive zipcodes on average, all time:\")\n",
    "top_5_expensive_mean\n"
   ]
  },
  {
   "cell_type": "markdown",
   "metadata": {},
   "source": [
    "## Question 3: What is the distribution of demand over the entire time, per month?"
   ]
  },
  {
   "cell_type": "markdown",
   "metadata": {},
   "source": [
    "Here I calculate the demand by counting reviews of the users, over the whole time. I accumulate the values with resolution of a month, for better visualization.\n"
   ]
  },
  {
   "cell_type": "code",
   "execution_count": 50,
   "metadata": {
    "scrolled": true
   },
   "outputs": [
    {
     "data": {
      "image/png": "[encoded data removed]",
      "text/plain": [
       "<Figure size 3600x720 with 1 Axes>"
      ]
     },
     "metadata": {
      "needs_background": "light"
     },
     "output_type": "display_data"
    }
   ],
   "source": [
    "reviews_df_clean['year-month'] = reviews_df_clean['date'].apply(lambda x: '-'.join(x.split('-')[:2]))\n",
    "reviews_df_clean.drop(columns = ['date'], inplace = True)\n",
    "\n",
    "comments_per_month_df = pd.DataFrame(reviews_df_clean.groupby('year-month')['id'].count()).reset_index()\n",
    "comments_per_month_df.columns = ['year_month','comments']\n",
    "comments_per_month_df.plot.bar(x='year_month',y='comments',color='red',figsize=(50,10));"
   ]
  },
  {
   "cell_type": "code",
   "execution_count": 51,
   "metadata": {},
   "outputs": [
    {
     "data": {
      "text/plain": [
       "'2009-03'"
      ]
     },
     "execution_count": 51,
     "metadata": {},
     "output_type": "execute_result"
    }
   ],
   "source": [
    "comments_per_month_df['year_month'].min()"
   ]
  },
  {
   "cell_type": "code",
   "execution_count": 52,
   "metadata": {},
   "outputs": [
    {
     "data": {
      "text/plain": [
       "'2016-09'"
      ]
     },
     "execution_count": 52,
     "metadata": {},
     "output_type": "execute_result"
    }
   ],
   "source": [
    "comments_per_month_df['year_month'].max()"
   ]
  },
  {
   "cell_type": "markdown",
   "metadata": {},
   "source": [
    "# Summary"
   ]
  },
  {
   "cell_type": "markdown",
   "metadata": {},
   "source": [
    "I have a few observations based on this analysis.\n",
    "* Firstly, some conclusions from the distribution of room prices per room type:\n",
    "    - shared room:\n",
    "        - average 93.18 USD, with 75% being below 99 USD. Minimum price was 20 USD.\n",
    "    - private room:\n",
    "        - average 95.83 USD, with 75% being below 100 USD. Minimum price was 20 USD.\n",
    "    - entire apartment:\n",
    "        - average 227.84 USD, with 75% being below 270 USD. Minimum price was 1 USD!\n",
    "* Secondly, the price between Sep. 2016 and Sep. 2017, for the data available in the calendar, did not change practically at all on average. This does not consider how individual areas fluctuated and what was the spread and if that changed, but on average this is the result. I would assume that exactly the fact of some areas becoming more and some less expensive could have averaged itself out.\n",
    "* Thirdly, clearly we can see a pattern that demand is increasing, drastically over the last years. The data dates back to 2009 the earliest (maybe hard to read in the plot, I provided read out from the dataframe), however the drastic increase is observed in the last 4 years, more and more. This is also seasonal, usually increasing up to september - october, peaking and dropping in winter."
   ]
  },
  {
   "cell_type": "code",
   "execution_count": null,
   "metadata": {},
   "outputs": [],
   "source": [
    " "
   ]
  }
 ],
 "metadata": {
  "kernelspec": {
   "display_name": "Python 3",
   "language": "python",
   "name": "python3"
  },
  "language_info": {
   "codemirror_mode": {
    "name": "ipython",
    "version": 3
   },
   "file_extension": ".py",
   "mimetype": "text/x-python",
   "name": "python",
   "nbconvert_exporter": "python",
   "pygments_lexer": "ipython3",
   "version": "3.7.1"
  }
 },
 "nbformat": 4,
 "nbformat_minor": 2
}
